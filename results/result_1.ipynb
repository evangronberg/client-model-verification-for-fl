{
 "cells": [
  {
   "cell_type": "code",
   "execution_count": null,
   "metadata": {},
   "outputs": [],
   "source": [
    "# External dependencies\n",
    "from flwr.server.history import History\n",
    "\n",
    "# Internal dependencies\n",
    "from simulation import run_simulation\n",
    "\n",
    "# Change the number of bad clients\n",
    "performance_curves = []\n",
    "for n_scrambled_labels in [0] + list(range(2, 11)):\n",
    "    performance_curve = []\n",
    "    for n_bad_clients in range(101):\n",
    "        performance : History = run_simulation(sim_config={\n",
    "            'n_clients': 100,\n",
    "            'n_bad_clients': n_bad_clients,\n",
    "            'n_scrambled_labels': n_scrambled_labels,\n",
    "            'n_rounds': 1,\n",
    "            'dataset': 'mnist',\n",
    "            'n_client_epochs': 5,\n",
    "            'client_batch_size': 128,\n",
    "            'avg_client_std_threshold': 1.0\n",
    "        })\n",
    "        performance_curve.append(performance)"
   ]
  }
 ],
 "metadata": {
  "kernelspec": {
   "display_name": "Python 3.9.15 ('.venv': venv)",
   "language": "python",
   "name": "python3"
  },
  "language_info": {
   "codemirror_mode": {
    "name": "ipython",
    "version": 3
   },
   "file_extension": ".py",
   "mimetype": "text/x-python",
   "name": "python",
   "nbconvert_exporter": "python",
   "pygments_lexer": "ipython3",
   "version": "3.9.15"
  },
  "orig_nbformat": 4,
  "vscode": {
   "interpreter": {
    "hash": "cbd3eabf138b61881306604d6d4fbdae76a4be1f243e4b564b2b75639d0f878f"
   }
  }
 },
 "nbformat": 4,
 "nbformat_minor": 2
}
